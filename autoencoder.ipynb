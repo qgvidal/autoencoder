{
 "cells": [
  {
   "cell_type": "markdown",
   "metadata": {},
   "source": [
    "# AUTOENCODERS"
   ]
  },
  {
   "cell_type": "markdown",
   "metadata": {},
   "source": [
    "As you already know, an autoencoder is a very useful model for solving problems like denoising images.\n",
    "\n",
    "In this easy execise we will learn how to apply them for this purpose using mnist dataset which is included in keras by default and contains different images of numbers from 0 to 9.\n",
    "\n",
    "First thing we have to do is importing libraries we are going to use. In this case, keras (with different layers like Dense, Dropout and Flatten and also convolutional layers) will help us for creating the model: "
   ]
  },
  {
   "cell_type": "code",
   "execution_count": 1,
   "metadata": {},
   "outputs": [
    {
     "name": "stderr",
     "output_type": "stream",
     "text": [
      "Using TensorFlow backend.\n"
     ]
    }
   ],
   "source": [
    "import keras\n",
    "from keras.datasets import mnist\n",
    "from keras.models import Sequential\n",
    "from keras.layers import Dense, Dropout, Flatten\n",
    "from keras.layers import Conv2D, MaxPooling2D \n",
    "from keras import backend as K\n",
    "import matplotlib.pyplot as plt\n",
    "import numpy as np"
   ]
  },
  {
   "cell_type": "markdown",
   "metadata": {},
   "source": [
    "Next step is importing the dataset mnist. mnist comes already splitted in train and test."
   ]
  },
  {
   "cell_type": "code",
   "execution_count": 2,
   "metadata": {},
   "outputs": [],
   "source": [
    "(x_train, y_train), (x_test, y_test) = mnist.load_data()"
   ]
  },
  {
   "cell_type": "markdown",
   "metadata": {},
   "source": [
    "#### ADDING NOISE TO THE TRAINING DATASET"
   ]
  },
  {
   "cell_type": "markdown",
   "metadata": {},
   "source": [
    "Now is time to create a noise images dataset. As you can know, noise used to follow a normal distribution, so we are using the random number generator of numpy for creating that noise and adding it to our training set. "
   ]
  },
  {
   "cell_type": "code",
   "execution_count": 3,
   "metadata": {},
   "outputs": [],
   "source": [
    "ruido = np.random.normal(2, 40,x_train.shape)\n",
    "x_train_ruido = x_train + ruido"
   ]
  },
  {
   "cell_type": "markdown",
   "metadata": {},
   "source": [
    "We can also visualize the same number noised and denoised just to see the difference between each other:"
   ]
  },
  {
   "cell_type": "code",
   "execution_count": 4,
   "metadata": {},
   "outputs": [
    {
     "data": {
      "text/plain": [
       "Text(0.5, 1.0, 'Imagen sin ruido')"
      ]
     },
     "execution_count": 4,
     "metadata": {},
     "output_type": "execute_result"
    },
    {
     "data": {
      "image/png": "[encoded data removed]",
      "text/plain": [
       "<Figure size 432x288 with 2 Axes>"
      ]
     },
     "metadata": {
      "needs_background": "light"
     },
     "output_type": "display_data"
    }
   ],
   "source": [
    "plt.subplot(1,2,1)\n",
    "plt.imshow(x_train_ruido[0], cmap=plt.cm.binary)\n",
    "plt.title(\"Imagen con ruido\")\n",
    "plt.subplot(1,2,2)\n",
    "plt.imshow(x_train[0], cmap=plt.cm.binary)\n",
    "plt.title(\"Imagen sin ruido\")"
   ]
  },
  {
   "cell_type": "markdown",
   "metadata": {},
   "source": [
    "The idea is the autoencoder must learn how to remove the noise of the noised image in order to generate the right image"
   ]
  },
  {
   "cell_type": "markdown",
   "metadata": {},
   "source": [
    "### ADDING NOISE TO THE TEST DATASET"
   ]
  },
  {
   "cell_type": "markdown",
   "metadata": {},
   "source": [
    "In the same way, we are adding noise to the test set:"
   ]
  },
  {
   "cell_type": "code",
   "execution_count": 5,
   "metadata": {},
   "outputs": [],
   "source": [
    "ruido = np.random.normal(2, 40,x_test.shape)\n",
    "x_test_ruido = x_test + ruido"
   ]
  },
  {
   "cell_type": "markdown",
   "metadata": {},
   "source": [
    "Next step is reshaping data and normalizing it in order to adapt it to a neural network:"
   ]
  },
  {
   "cell_type": "code",
   "execution_count": 6,
   "metadata": {},
   "outputs": [],
   "source": [
    "train_data_ruido = x_train_ruido.reshape(-1, 28,28, 1)\n",
    "train_data = x_train.reshape(-1, 28,28, 1)\n",
    "\n",
    "test_data_ruido = x_test_ruido.reshape(-1, 28,28, 1)\n",
    "test_data = x_test.reshape(-1, 28,28, 1)"
   ]
  },
  {
   "cell_type": "code",
   "execution_count": 7,
   "metadata": {},
   "outputs": [],
   "source": [
    "max_train_ruido = np.max(train_data_ruido)\n",
    "max_train = np.max(train_data)\n",
    "\n",
    "max_test_ruido = np.max(test_data_ruido)\n",
    "max_test = np.max(test_data)"
   ]
  },
  {
   "cell_type": "code",
   "execution_count": 8,
   "metadata": {},
   "outputs": [],
   "source": [
    "train_data_ruido = train_data_ruido / max_train_ruido\n",
    "train_data = train_data / max_train\n",
    "\n",
    "test_data = test_data / max_test\n",
    "test_data_ruido = test_data_ruido / max_test_ruido"
   ]
  },
  {
   "cell_type": "code",
   "execution_count": 9,
   "metadata": {},
   "outputs": [
    {
     "data": {
      "text/plain": [
       "(1.0, 1.0, 1.0, 1.0)"
      ]
     },
     "execution_count": 9,
     "metadata": {},
     "output_type": "execute_result"
    }
   ],
   "source": [
    "np.max(train_data),np.max(train_data_ruido),np.max(test_data_ruido), np.max(test_data)"
   ]
  },
  {
   "cell_type": "markdown",
   "metadata": {},
   "source": [
    "### MODEL CREATION"
   ]
  },
  {
   "cell_type": "markdown",
   "metadata": {},
   "source": [
    "For creating the autoencoder model we first need to reshample data for converting it as an input neurla network array "
   ]
  },
  {
   "cell_type": "code",
   "execution_count": 10,
   "metadata": {},
   "outputs": [],
   "source": [
    "train_data = np.array(train_data)\n",
    "train_data = train_data.reshape(60000,784)\n",
    "\n",
    "train_data_ruido = np.array(train_data_ruido)\n",
    "train_data_ruido = train_data_ruido.reshape(60000,784)"
   ]
  },
  {
   "cell_type": "markdown",
   "metadata": {},
   "source": [
    "Now we define the model. In keras is easy to do it. Remember, an autoencoder is a mirrored strcture. That means encoder must have same structrure as decoder.\n",
    "\n",
    "First thing is importing the secuential model class:"
   ]
  },
  {
   "cell_type": "code",
   "execution_count": 11,
   "metadata": {},
   "outputs": [],
   "source": [
    "model = Sequential()"
   ]
  },
  {
   "cell_type": "markdown",
   "metadata": {},
   "source": [
    "Then we will start by adding our first layer, which will be a dense one where all neurones (784, 28x28 pixels) will have relu activation function"
   ]
  },
  {
   "cell_type": "code",
   "execution_count": 12,
   "metadata": {},
   "outputs": [],
   "source": [
    "model.add(Dense(784,activation='relu',input_dim=784))"
   ]
  },
  {
   "cell_type": "markdown",
   "metadata": {},
   "source": [
    "Then we will add two more dense layers:"
   ]
  },
  {
   "cell_type": "code",
   "execution_count": 13,
   "metadata": {},
   "outputs": [],
   "source": [
    "model.add(Dense(256,activation='relu'))\n",
    "model.add(Dense(128,activation='relu'))"
   ]
  },
  {
   "cell_type": "markdown",
   "metadata": {},
   "source": [
    "With it, we will have the encoder. Now is time to replicate it for the decoder."
   ]
  },
  {
   "cell_type": "code",
   "execution_count": 14,
   "metadata": {},
   "outputs": [],
   "source": [
    "model.add(Dense(256,activation='relu'))\n",
    "model.add(Dense(784,activation='relu'))"
   ]
  },
  {
   "cell_type": "markdown",
   "metadata": {},
   "source": [
    "As a curiosity, relu should be the most common activation function in DL models. That is because it helps to train the model quicker (thanks to and easy derivative aproximation)"
   ]
  },
  {
   "cell_type": "markdown",
   "metadata": {},
   "source": [
    "Let's go a step forward and define the loss function, the optimizer for the backpropagation weight update and the accuracy metric"
   ]
  },
  {
   "cell_type": "code",
   "execution_count": 15,
   "metadata": {},
   "outputs": [],
   "source": [
    "model.compile(loss=keras.losses.mean_squared_error,\n",
    "             optimizer=keras.optimizers.Adam(),metrics = ['accuracy'])"
   ]
  },
  {
   "cell_type": "markdown",
   "metadata": {},
   "source": [
    "Next step is training the model. In this case we will train the model for 10 epochs with a batch size of 256 samples. Remember, the input data will be the noised images and the output will be the denoised ones"
   ]
  },
  {
   "cell_type": "code",
   "execution_count": 16,
   "metadata": {},
   "outputs": [
    {
     "name": "stdout",
     "output_type": "stream",
     "text": [
      "Epoch 1/10\n",
      "60000/60000 [==============================] - 11s 192us/step - loss: 0.0294 - accuracy: 0.0103\n",
      "Epoch 2/10\n",
      "60000/60000 [==============================] - 10s 163us/step - loss: 0.0139 - accuracy: 0.0123\n",
      "Epoch 3/10\n",
      "60000/60000 [==============================] - 9s 157us/step - loss: 0.0120 - accuracy: 0.0132\n",
      "Epoch 4/10\n",
      "60000/60000 [==============================] - 9s 147us/step - loss: 0.0110 - accuracy: 0.0136\n",
      "Epoch 5/10\n",
      "60000/60000 [==============================] - 8s 138us/step - loss: 0.0104 - accuracy: 0.0149\n",
      "Epoch 6/10\n",
      "60000/60000 [==============================] - 10s 165us/step - loss: 0.0100 - accuracy: 0.0147\n",
      "Epoch 7/10\n",
      "60000/60000 [==============================] - 10s 162us/step - loss: 0.0097 - accuracy: 0.0155s - loss: 0.0\n",
      "Epoch 8/10\n",
      "60000/60000 [==============================] - 11s 188us/step - loss: 0.0095 - accuracy: 0.0153\n",
      "Epoch 9/10\n",
      "60000/60000 [==============================] - 13s 211us/step - loss: 0.0093 - accuracy: 0.0163\n",
      "Epoch 10/10\n",
      "60000/60000 [==============================] - 10s 166us/step - loss: 0.0091 - accuracy: 0.0157\n"
     ]
    },
    {
     "data": {
      "text/plain": [
       "<keras.callbacks.callbacks.History at 0x10c2938d0>"
      ]
     },
     "execution_count": 16,
     "metadata": {},
     "output_type": "execute_result"
    }
   ],
   "source": [
    "model.fit(train_data_ruido,train_data,epochs=10,batch_size=256)"
   ]
  },
  {
   "cell_type": "markdown",
   "metadata": {},
   "source": [
    "Once the model is trained, is time to pass through the model our test data. We can get it by using predict method"
   ]
  },
  {
   "cell_type": "code",
   "execution_count": 17,
   "metadata": {},
   "outputs": [],
   "source": [
    "test_data = np.array(test_data)\n",
    "test_data = test_data.reshape(10000,784)\n",
    "\n",
    "test_data_ruido = np.array(test_data_ruido)\n",
    "test_data_ruido = test_data_ruido.reshape(10000,784)"
   ]
  },
  {
   "cell_type": "code",
   "execution_count": 18,
   "metadata": {},
   "outputs": [],
   "source": [
    "x_decoded = model.predict(test_data_ruido)"
   ]
  },
  {
   "cell_type": "markdown",
   "metadata": {},
   "source": [
    "### SHOWING PREDICTION RESULTS"
   ]
  },
  {
   "cell_type": "markdown",
   "metadata": {},
   "source": [
    "For visualizing the results we go backwards all the process for reconstructing the images as a 28x28 pixels:"
   ]
  },
  {
   "cell_type": "code",
   "execution_count": 19,
   "metadata": {},
   "outputs": [],
   "source": [
    "imagen_sin_ruido = x_decoded[0].reshape(28,28) * max_test\n",
    "imagen_con_ruido = test_data_ruido[0].reshape(28,28) * max_test_ruido"
   ]
  },
  {
   "cell_type": "markdown",
   "metadata": {},
   "source": [
    "And finally, we can see the results:"
   ]
  },
  {
   "cell_type": "code",
   "execution_count": 20,
   "metadata": {},
   "outputs": [
    {
     "data": {
      "text/plain": [
       "Text(0.5, 1.0, 'Denoised image')"
      ]
     },
     "execution_count": 20,
     "metadata": {},
     "output_type": "execute_result"
    },
    {
     "data": {
      "image/png": "[encoded data removed]",
      "text/plain": [
       "<Figure size 432x288 with 2 Axes>"
      ]
     },
     "metadata": {
      "needs_background": "light"
     },
     "output_type": "display_data"
    }
   ],
   "source": [
    "plt.subplot(1,2,1)\n",
    "plt.imshow(imagen_con_ruido, cmap=plt.cm.binary)\n",
    "plt.title(\"Noised image\")\n",
    "plt.subplot(1,2,2)\n",
    "plt.imshow(imagen_sin_ruido, cmap=plt.cm.binary)\n",
    "plt.title(\"Denoised image\")"
   ]
  },
  {
   "cell_type": "markdown",
   "metadata": {},
   "source": [
    "As you can see, the left image (the input one) is a fully noised image and, the output image has being reconstructed as a denoised image"
   ]
  },
  {
   "cell_type": "markdown",
   "metadata": {},
   "source": [
    "This was not by chance. We can see another example:"
   ]
  },
  {
   "cell_type": "code",
   "execution_count": 21,
   "metadata": {},
   "outputs": [
    {
     "data": {
      "text/plain": [
       "Text(0.5, 1.0, 'Denoised image')"
      ]
     },
     "execution_count": 21,
     "metadata": {},
     "output_type": "execute_result"
    },
    {
     "data": {
      "image/png": "[encoded data removed]",
      "text/plain": [
       "<Figure size 432x288 with 2 Axes>"
      ]
     },
     "metadata": {
      "needs_background": "light"
     },
     "output_type": "display_data"
    }
   ],
   "source": [
    "imagen_sin_ruido = x_decoded[1].reshape(28,28) * max_test\n",
    "imagen_con_ruido = test_data_ruido[1].reshape(28,28) * max_test_ruido\n",
    "\n",
    "plt.subplot(1,2,1)\n",
    "plt.imshow(imagen_con_ruido, cmap=plt.cm.binary)\n",
    "plt.title(\"Noised image\")\n",
    "plt.subplot(1,2,2)\n",
    "plt.imshow(imagen_sin_ruido, cmap=plt.cm.binary)\n",
    "plt.title(\"Denoised image\")"
   ]
  }
 ],
 "metadata": {
  "kernelspec": {
   "display_name": "Python 3",
   "language": "python",
   "name": "python3"
  },
  "language_info": {
   "codemirror_mode": {
    "name": "ipython",
    "version": 3
   },
   "file_extension": ".py",
   "mimetype": "text/x-python",
   "name": "python",
   "nbconvert_exporter": "python",
   "pygments_lexer": "ipython3",
   "version": "3.7.3"
  }
 },
 "nbformat": 4,
 "nbformat_minor": 2
}
